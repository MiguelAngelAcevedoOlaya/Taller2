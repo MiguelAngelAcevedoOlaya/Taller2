{
  "nbformat": 4,
  "nbformat_minor": 0,
  "metadata": {
    "colab": {
      "provenance": []
    },
    "kernelspec": {
      "name": "python3",
      "display_name": "Python 3"
    },
    "language_info": {
      "name": "python"
    }
  },
  "cells": [
    {
      "cell_type": "markdown",
      "source": [
        "#PUNTO 2\n",
        "### Desarrollar un programa que ingrese un número flotante n y separe su parte entera de la parte decimal, y luego entregue los dígitos tanto de la parte entera como de la decimal.\n",
        "\n",
        "Creamos las listas necesarias para el codigo"
      ],
      "metadata": {
        "id": "8JXuNhIuugWP"
      }
    },
    {
      "cell_type": "code",
      "source": [
        "digitos = [] #LISTA VACIA QUE USAREMOS PARA ANEXAR CADA DIGITO\n",
        "entero = [] # Lista para los enteros\n",
        "decimal = [] # Lista para los flotantes"
      ],
      "metadata": {
        "id": "S_x56W2WvCI8"
      },
      "execution_count": 53,
      "outputs": []
    },
    {
      "cell_type": "markdown",
      "source": [
        "Ahora definimos la función, se decidió hacerla convirtiendo el flotante en string y utilizar el remove en las lsitas para separarlos, se penso hacerlo con el punto 1, pero este tiene un porblema para la aproximacion de flotantes debido a su codigo. Por lo que se opto por este"
      ],
      "metadata": {
        "id": "8yIvSuHVvQp_"
      }
    },
    {
      "cell_type": "code",
      "source": [
        "def separar_digitos_num(numero_n : float)-> int: # Función\n",
        "  str_numero_n = str(numero_n) # Convertimos el flotante en un string\n",
        "  for i in str_numero_n:\n",
        "    decimal.append(i) # Agregamos todos elementos del string a la lista\n",
        "  decimal_aux = decimal [:] # Creamos una variable auxiliar que será necesaria\n",
        "  for i in decimal_aux: #Esto se usa para separar la lista en los elementos antes del punto y los de despues, la variable auxiliar era para que el remove no fallara\n",
        "    if i == \".\" :\n",
        "      decimal.remove(i)\n",
        "      break #No incluir el punto y que funcione hasta que aparezca el\n",
        "    else:\n",
        "      decimal.remove(i) #Eliminar de la lista\n",
        "      entero.append(i)  #Agregar a la lista\n",
        "  print(\"La parte entera es: \" +str(entero)) #Tenemos la parte entera\n",
        "  print(\"La parte decimal es: \" +str(decimal)) # Tenemos la parte decimal\n",
        "  for i in str_numero_n:  # Este para repetir lo del escenario anterior pero dejarlo en una lista aparte, sin el punto\n",
        "    if i == \".\":\n",
        "      continue\n",
        "    digitos.append(i)\n",
        "  print(\"Todos los digitos son: \" +str(digitos))"
      ],
      "metadata": {
        "id": "w6iP_oIWvjly"
      },
      "execution_count": 54,
      "outputs": []
    },
    {
      "cell_type": "markdown",
      "source": [
        "Ahora le pedimos al usuario ingresar al número que desee, que sea flotante"
      ],
      "metadata": {
        "id": "jEfI3YMQvkjH"
      }
    },
    {
      "cell_type": "code",
      "source": [
        "if __name__ ==  \"__main__\":\n",
        "  numero_n = float(input(\"Ingresa el flotante que quieras \")) # El usuario tiene libertad de elegir su numero\n",
        "  separar_digitos_num(numero_n) # Para ingresarlo a la función"
      ],
      "metadata": {
        "id": "636_TQs_vt2w",
        "outputId": "5c79c9f5-4687-4542-aec7-db30992b37d5",
        "colab": {
          "base_uri": "https://localhost:8080/"
        }
      },
      "execution_count": 55,
      "outputs": [
        {
          "output_type": "stream",
          "name": "stdout",
          "text": [
            "Ingresa el flotante que quieras 12.2\n",
            "La parte entera es: ['1', '2']\n",
            "La parte decimal es: ['2']\n",
            "Todos los digitos son: ['1', '2', '2']\n"
          ]
        }
      ]
    }
  ]
}