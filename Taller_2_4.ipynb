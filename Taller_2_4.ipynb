{
  "nbformat": 4,
  "nbformat_minor": 0,
  "metadata": {
    "colab": {
      "provenance": []
    },
    "kernelspec": {
      "name": "python3",
      "display_name": "Python 3"
    },
    "language_info": {
      "name": "python"
    }
  },
  "cells": [
    {
      "cell_type": "markdown",
      "source": [
        "## Punto 4\n",
        "\n",
        "### Diseñar una función que permita calcular una aproximación de la función coseno alrededor de 0 para cualquier valor x (real), utilizando los primeros n términos de la serie de Taylor. nota: use math para traer la función coseno y mostrar la diferencia entre el valor real y la aproximación. Calcule con cuántos términos de la serie (i.e: cuáles valores de n), se tienen errores del 10%, 1%, 0.1% y 0.001%.\n",
        "\n",
        "Para este punto importamos expoencial y factorial de la libreria math, establecimos la función con la variable numero como flotante y n como entero. Una variable dentro de la función llamada suma = 0, que usaremos para el ciclo for, minetras la variable i este entre 0 y (n +1) usamos la serie de Maclaurin que se ira sumando porgresivamente a la variable suma hasta que deje de cumplirse el ciclo.\n",
        "\n",
        "Luego le damos valor a las variables necesarias, y sacamos el valor real al elevar el número a cierto exponente, y establecimos un ciclo while que determine cuando el margen de error es inferior al 0.1%, ese sera el nuevo valor de n que utliziremos, corriendo nuevamente la función, dandonos el valor aproximado y el real.\n",
        "\n",
        "En esta primera es la función en la que no buscamos que el margen de error sea menor a 0.1%, el usuaario tiene la libertad de elegir el número n, considerando que el margen de error"
      ],
      "metadata": {
        "id": "Xh2oC97NYXu_"
      }
    },
    {
      "cell_type": "code",
      "execution_count": 1,
      "metadata": {
        "id": "EphLjtdlZi-1",
        "colab": {
          "base_uri": "https://localhost:8080/"
        },
        "outputId": "54601eaa-6510-486c-cf22-9da513c1f3d2"
      },
      "outputs": [
        {
          "output_type": "stream",
          "name": "stdout",
          "text": [
            "Ingrese el valor de x: 0.8\n",
            "Ingrese el número de términos de la serie: 2\n",
            "El valor real de cos(0.8) es: 0.6967067093471654\n",
            "La aproximación de cos(0.8) usando 2 términos de la serie es: 0.6799999999999999\n",
            "La diferencia entre el valor real y la aproximación es: 0.01670670934716545\n"
          ]
        }
      ],
      "source": [
        "import math\n",
        "\n",
        "def cos_approx_TaylorSwift(x, n):\n",
        "    # Variable para almacenar el resultado\n",
        "    resultado = 0\n",
        "\n",
        "    # Sumamos los términos de la serie de Taylor\n",
        "    for i in range(n):\n",
        "        resultado += ((-1) ** i) * (x ** (2 * i)) / math.factorial(2 * i)\n",
        "\n",
        "    # Devolvemos el resultado\n",
        "    return resultado\n",
        "\n",
        "\n",
        "x = float(input(\"Ingrese el valor de x: \"))\n",
        "n = int(input(\"Ingrese el número de términos de la serie: \"))\n",
        "\n",
        "# Calculamos la aproximación y mostramos la diferencia entre el valor real y la aproximación\n",
        "cos_x = math.cos(x)\n",
        "cos_approx = cos_approx_TaylorSwift(x, n)\n",
        "print(f\"El valor real de cos({x}) es: {cos_x}\")\n",
        "print(f\"La aproximación de cos({x}) usando {n} términos de la serie es: {cos_approx}\")\n",
        "print(f\"La diferencia entre el valor real y la aproximación es: {abs(cos_x - cos_approx)}\")\n"
      ]
    },
    {
      "cell_type": "markdown",
      "source": [
        "En esta si buscamos encontrar el valor en el que el margen de error sea 0.001%"
      ],
      "metadata": {
        "id": "OEziXYCpZEL9"
      }
    },
    {
      "cell_type": "code",
      "source": [
        "import math\n",
        "\n",
        "def aprox_exp(numero: float, n: int)-> float:\n",
        "  suma: float = 0\n",
        "  for i in range(0, n+1):\n",
        "    n_ter = ((-1) ** i) * (x ** (2 * i)) / math.factorial(2 * i)\n",
        "    suma += n_ter\n",
        "  return suma\n",
        "\n",
        "if __name__ == \"__main__\":\n",
        "  numero = float(input(\"Ingresa un número real \"))\n",
        "  n: int = 1\n",
        "  aprx: float = aprox_exp(numero, n)\n",
        "  v_real : float = math.cos(x)\n",
        "\n",
        "while((abs(v_real - aprx)/v_real * 100)>0.001):\n",
        "  aprx: float = aprox_exp(numero, n)\n",
        "  n += 1\n",
        "print(\"Para que el margen de error sea 0.001  el valor debe ser:\" +str(n))\n",
        "print(\"La aproximación es \" +str(aprx))\n",
        "print(\"El valor real es \" +str(v_real))"
      ],
      "metadata": {
        "colab": {
          "base_uri": "https://localhost:8080/"
        },
        "id": "JO3zDheQXfY5",
        "outputId": "2f4ffa95-cb6f-41ca-bd23-ecd6e9212898"
      },
      "execution_count": 6,
      "outputs": [
        {
          "output_type": "stream",
          "name": "stdout",
          "text": [
            "Ingresa un número real 0.43\n",
            "Para que el margen de error sea 0.001  el valor debe ser:4\n",
            "La aproximación es 0.6967025777777778\n",
            "El valor real es 0.6967067093471654\n"
          ]
        }
      ]
    },
    {
      "cell_type": "markdown",
      "source": [
        "En esta si buscamos encontrar el valor en el que el margen de error sea 0.1%"
      ],
      "metadata": {
        "id": "70Nv7IocZSkd"
      }
    },
    {
      "cell_type": "code",
      "source": [
        "import math\n",
        "\n",
        "def aprox_exp(numero: float, n: int)-> float:\n",
        "  suma: float = 0\n",
        "  for i in range(0, n+1):\n",
        "    n_ter = ((-1) ** i) * (x ** (2 * i)) / math.factorial(2 * i)\n",
        "    suma += n_ter\n",
        "  return suma\n",
        "\n",
        "if __name__ == \"__main__\":\n",
        "  numero = float(input(\"Ingresa un número real \"))\n",
        "  n: int = 1\n",
        "  aprx: float = aprox_exp(numero, n)\n",
        "  v_real : float = math.cos(x)\n",
        "\n",
        "while((abs(v_real - aprx)/v_real * 100)>0.1):\n",
        "  aprx: float = aprox_exp(numero, n)\n",
        "  n += 1\n",
        "print(\"Para que el margen de error sea 0.1  el valor debe ser:\" +str(n))\n",
        "print(\"La aproximación es \" +str(aprx))\n",
        "print(\"El valor real es \" +str(v_real))"
      ],
      "metadata": {
        "colab": {
          "base_uri": "https://localhost:8080/"
        },
        "id": "ls9IjKB8WtVc",
        "outputId": "052a3dce-ec5f-41d6-dc5d-57c439679745"
      },
      "execution_count": 4,
      "outputs": [
        {
          "output_type": "stream",
          "name": "stdout",
          "text": [
            "Ingresa un número real 0.8\n",
            "Para que el margen de error sea 0.1  el valor debe ser:3\n",
            "La aproximación es 0.6970666666666666\n",
            "El valor real es 0.6967067093471654\n"
          ]
        }
      ]
    },
    {
      "cell_type": "markdown",
      "source": [
        "En esta si buscamos encontrar el valor en el que el margen de error sea 1%"
      ],
      "metadata": {
        "id": "MWEDFsUqZkR6"
      }
    },
    {
      "cell_type": "code",
      "source": [
        "import math\n",
        "\n",
        "def aprox_exp(numero: float, n: int)-> float:\n",
        "  suma: float = 0\n",
        "  for i in range(0, n+1):\n",
        "    n_ter = ((-1) ** i) * (x ** (2 * i)) / math.factorial(2 * i)\n",
        "    suma += n_ter\n",
        "  return suma\n",
        "\n",
        "if __name__ == \"__main__\":\n",
        "  numero = float(input(\"Ingresa un número real \"))\n",
        "  n: int = 1\n",
        "  aprx: float = aprox_exp(numero, n)\n",
        "  v_real : float = math.cos(x)\n",
        "\n",
        "while((abs(v_real - aprx)/v_real * 100)>1):\n",
        "  aprx: float = aprox_exp(numero, n)\n",
        "  n += 1\n",
        "print(\"Para que el margen de error sea 1  el valor debe ser:\" +str(n))\n",
        "print(\"La aproximación es \" +str(aprx))\n",
        "print(\"El valor real es \" +str(v_real))"
      ],
      "metadata": {
        "colab": {
          "base_uri": "https://localhost:8080/"
        },
        "id": "wVAVG9i3YGn2",
        "outputId": "94bf0203-c6d5-46a9-c4a6-e7a47b5e06c1"
      },
      "execution_count": 7,
      "outputs": [
        {
          "output_type": "stream",
          "name": "stdout",
          "text": [
            "Ingresa un número real 0.4\n",
            "Para que el margen de error sea 1  el valor debe ser:3\n",
            "La aproximación es 0.6970666666666666\n",
            "El valor real es 0.6967067093471654\n"
          ]
        }
      ]
    },
    {
      "cell_type": "markdown",
      "source": [
        "En esta si buscamos encontrar el valor en el que el margen de error sea 10%"
      ],
      "metadata": {
        "id": "H4Mzc1GIZuYB"
      }
    },
    {
      "cell_type": "code",
      "source": [
        "import math\n",
        "\n",
        "def aprox_exp(numero: float, n: int)-> float:\n",
        "  suma: float = 0\n",
        "  for i in range(0, n+1):\n",
        "    n_ter = ((-1) ** i) * (x ** (2 * i)) / math.factorial(2 * i)\n",
        "    suma += n_ter\n",
        "  return suma\n",
        "\n",
        "if __name__ == \"__main__\":\n",
        "  numero = float(input(\"Ingresa un número real \"))\n",
        "  n: int = 1\n",
        "  aprx: float = aprox_exp(numero, n)\n",
        "  v_real : float = math.cos(x)\n",
        "\n",
        "while((abs(v_real - aprx)/v_real * 100)>10):\n",
        "  aprx: float = aprox_exp(numero, n)\n",
        "  n += 1\n",
        "print(\"Para que el margen de error sea 10%  el valor debe ser:\" +str(n))\n",
        "print(\"La aproximación es \" +str(aprx))\n",
        "print(\"El valor real es \" +str(v_real))"
      ],
      "metadata": {
        "colab": {
          "base_uri": "https://localhost:8080/"
        },
        "id": "bVwjnA7mYMFg",
        "outputId": "92ab0c31-850d-46e4-c9b7-b00f8c1dd65a"
      },
      "execution_count": 8,
      "outputs": [
        {
          "output_type": "stream",
          "name": "stdout",
          "text": [
            "Ingresa un número real 0.43\n",
            "Para que el margen de error sea 10%  el valor debe ser:1\n",
            "La aproximación es 0.6799999999999999\n",
            "El valor real es 0.6967067093471654\n"
          ]
        }
      ]
    }
  ]
}