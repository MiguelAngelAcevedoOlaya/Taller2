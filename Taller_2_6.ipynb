{
  "nbformat": 4,
  "nbformat_minor": 0,
  "metadata": {
    "colab": {
      "provenance": []
    },
    "kernelspec": {
      "name": "python3",
      "display_name": "Python 3"
    },
    "language_info": {
      "name": "python"
    }
  },
  "cells": [
    {
      "cell_type": "markdown",
      "source": [
        "# Punto 6\n",
        "\n",
        "## Desarrollar un programa que determine si en una lista existen o no elementos repetidos. Pista: Maneje valores booleanos y utilice el operador in\n",
        "\n",
        "Para este punto se le pide al usuario que ingrese valores separados por coma para crear la lista, ahora se crea un ciclo en el que busva si por cada elemento de la lista esta en algun otro punto de ella, en caso de que halla tan solo 1 repetido hace break ya que cumple la condición, en caso de que no continuara en el ciclo hasta que se acabe el ciclo"
      ],
      "metadata": {
        "id": "Ezix-eT12qHh"
      }
    },
    {
      "cell_type": "code",
      "execution_count": 2,
      "metadata": {
        "colab": {
          "base_uri": "https://localhost:8080/"
        },
        "id": "Ab8OW6IJanz-",
        "outputId": "dc8c2d2d-a9ca-4691-fc44-788e5c3ac556"
      },
      "outputs": [
        {
          "output_type": "stream",
          "name": "stdout",
          "text": [
            "Coloca una lista de número y separalos con una coma: 1,4,5,6,7,1\n",
            "Existen elementos repetidos en la lista.\n"
          ]
        }
      ],
      "source": [
        "numeros = (input(\"Coloca una lista de número y separalos con una coma: \"))\n",
        "\n",
        "# Variable booleana para indicar si hay elementos repetidos\n",
        "tiene_repetidos = False\n",
        "\n",
        "# Bucle for para recorrer cada elemento de la lista\n",
        "for i in range(len(numeros)):\n",
        "    # Estructura condicional if para verificar si el elemento actual de la lista está presente en la lista entera\n",
        "    if numeros[i] in numeros[i] + numeros[i+1]:\n",
        "        tiene_repetidos = True\n",
        "        break\n",
        "\n",
        "# Verificar el valor de la variable booleana \"tiene_repetidos\"\n",
        "if tiene_repetidos:\n",
        "    print(\"Existen elementos repetidos en la lista.\")\n",
        "else:\n",
        "    print(\"No existen elementos repetidos en la lista.\")"
      ]
    }
  ]
}