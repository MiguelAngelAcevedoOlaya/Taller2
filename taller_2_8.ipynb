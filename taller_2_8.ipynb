{
  "nbformat": 4,
  "nbformat_minor": 0,
  "metadata": {
    "colab": {
      "provenance": []
    },
    "kernelspec": {
      "name": "python3",
      "display_name": "Python 3"
    },
    "language_info": {
      "name": "python"
    }
  },
  "cells": [
    {
      "cell_type": "markdown",
      "source": [
        "# Punto 8\n",
        "## Desarrollar un programa que dadas dos listas determine que elementos tiene la primer lista que no tenga la segunda lista\n",
        "\n"
      ],
      "metadata": {
        "id": "lt0lyBE-fg2t"
      }
    },
    {
      "cell_type": "markdown",
      "source": [
        "Utilizaremos codigos for que ayuden a buscar si los elementos coineciden en cada lista siendo la lista A la que buscara si tiene elementos en la lista b, los que no coincidan los agregaremos en una tercera lista\n"
      ],
      "metadata": {
        "id": "_GD8d1InhD4v"
      }
    },
    {
      "cell_type": "code",
      "source": [
        "def lista_a_in_b(lista_A,lista_B):\n",
        "  lista_A_sin_b = []\n",
        "  for i in lista_A: #Primero i en los elementos en a\n",
        "    contador = 0\n",
        "    for i_2 in lista_B: #Ahora i2 en los elemenos en b\n",
        "      if i == i_2: #Si i y i2 son iguales le sumara uno e el contador\n",
        "        contador = contador + 1\n",
        "      else: continue\n",
        "    if contador == 0 and i not in lista_A_sin_b: # Si el contador es 0 lo agregara a la otra lista\n",
        "      lista_A_sin_b.append(i)\n",
        "  return lista_A_sin_b\n"
      ],
      "metadata": {
        "id": "1o-b-iF5hDiW"
      },
      "execution_count": 14,
      "outputs": []
    },
    {
      "cell_type": "markdown",
      "source": [
        "Ahora le pedimos al usuario que ingrese los valores que desee a la lista a y a la lista b"
      ],
      "metadata": {
        "id": "zuj5TUwSjXQJ"
      }
    },
    {
      "cell_type": "code",
      "execution_count": 13,
      "metadata": {
        "colab": {
          "base_uri": "https://localhost:8080/"
        },
        "id": "-vq0FgSUfEWf",
        "outputId": "970a0dd3-a9fd-45da-89e4-22426a2f2699"
      },
      "outputs": [
        {
          "output_type": "stream",
          "name": "stdout",
          "text": [
            "Ingresa cuantas cosas quieres en la lista A: 3\n",
            "Ingresa lo que desees ingresar: migue\n",
            "Ingresa lo que desees ingresar: santafe\n",
            "Ingresa lo que desees ingresar: city\n",
            "Ingresa cuantas cosas quieres en la lista B: 5\n",
            "Ingresa lo que desees ingresar: arsenal\n",
            "Ingresa lo que desees ingresar: migue\n",
            "Ingresa lo que desees ingresar: city\n",
            "Ingresa lo que desees ingresar: miillos\n",
            "Ingresa lo que desees ingresar: nacional\n",
            "Lista A: ['migue', 'santafe', 'city']\n",
            "Lista B: ['arsenal', 'migue', 'city', 'miillos', 'nacional']\n",
            "Lista de A sin elementos en B ['santafe']\n"
          ]
        }
      ],
      "source": [
        "if __name__ == \"__main__\":\n",
        "  num_a = int(input(\"Ingresa cuantas cosas quieres en la lista A: \")) #numero elementos lista A\n",
        "  lista_A = []\n",
        "  for i in range(num_a):  # Ingresar palabra y que lo ingrese a la lista\n",
        "    a = input( \"Ingresa lo que desees ingresar: \")\n",
        "    lista_A.append(a)\n",
        "  num_b = int(input(\"Ingresa cuantas cosas quieres en la lista B: \")) #numero elementos lista B\n",
        "  lista_B = []\n",
        "  for i in range(num_b): # Ingresar palabra y que lo ingrese a la lista\n",
        "    b = input( \"Ingresa lo que desees ingresar: \")\n",
        "    lista_B.append(b)\n",
        "  resultado = lista_a_in_b(lista_A,lista_B) # Ejecutar en la función\n",
        "  print(\"Lista A: \" +str(lista_A)) # Lista A\n",
        "  print(\"Lista B: \" +str(lista_B)) # Lista B\n",
        "  print(\"Lista de A sin elementos en B \" +str(resultado)) # Lista A sin elementos en B"
      ]
    }
  ]
}