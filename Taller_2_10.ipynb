{
  "nbformat": 4,
  "nbformat_minor": 0,
  "metadata": {
    "colab": {
      "provenance": []
    },
    "kernelspec": {
      "name": "python3",
      "display_name": "Python 3"
    },
    "language_info": {
      "name": "python"
    }
  },
  "cells": [
    {
      "cell_type": "markdown",
      "source": [
        "# Punto 10\n",
        "## Suponga que se tiene una lista A con ciertos números enteros. Desarrolle una función que, independientemente de los números que se encuentran en la lista A, tome aquellos números que son múltiplos de 3 y los guarde en una lista nueva, la cual debe ser retornada por la función. Implemente la perspectiva de un patrón de acumulación y también de comprensión de listas.\n",
        "\n",
        "Para este punto estabelecemos la lista que ingresaremos, una funcíón con ciclo for que para cada elemento de la lista determine si su residuo al divirlo entre 3 es igual a 0, los que si los agregue a la lista nueva y los que no, se mantengan igual, al final de la función esta retornara la lista\n"
      ],
      "metadata": {
        "id": "LW0jPOgKzVq_"
      }
    },
    {
      "cell_type": "code",
      "source": [
        "def multiplos_3(lista_numeros):\n",
        "  lista_multiplos = []\n",
        "  for i in lista_numeros: # Ciclo en el que si el residuo de dividir el número entre 3 lo agregue a lista que se usara para eso, sino continue\n",
        "    if i % 3 == 0:\n",
        "      lista_multiplos.append(i)\n",
        "    else: continue\n",
        "  #lista_multiplos = lista_multiplos.sort() #Si la quieres ordenada quita el numeral del inicio\n",
        "  return lista_multiplos\n"
      ],
      "metadata": {
        "id": "hPHRJbiszk2N"
      },
      "execution_count": null,
      "outputs": []
    },
    {
      "cell_type": "markdown",
      "source": [
        "Para el bono lo que se hizo fue cambiar la parte del residuo por una resta en la que si la division flotante (/) menos la division entera (//) al dividir entre tres es igual a 0, entonces sera multiplo de 3"
      ],
      "metadata": {
        "id": "NjK1cqLH8dE6"
      }
    },
    {
      "cell_type": "code",
      "source": [
        "def bono(lista_numeros):\n",
        "  lista_multiplos = []\n",
        "  for i in lista_numeros: # Ciclo en el que si la resta de la division flotante y su division real, al divir entre 3, lo agregue a lista que se usara para eso, sino continue\n",
        "    if (i/3)-(i//3)  == 0:\n",
        "      lista_multiplos.append(i)\n",
        "    else: continue\n",
        "  #lista_multiplos = lista_multiplos.sort() #Si la quieres ordenada quita el numeral del inicio\n",
        "  return lista_multiplos"
      ],
      "metadata": {
        "id": "_U4xDRZl8T3V"
      },
      "execution_count": null,
      "outputs": []
    },
    {
      "cell_type": "markdown",
      "source": [
        "Ahora le pedimos al usuario que ingrese los números que desee a la lista y la respuesta"
      ],
      "metadata": {
        "id": "yNfL6KdN03TA"
      }
    },
    {
      "cell_type": "code",
      "source": [
        "if __name__ == \"__main__\":\n",
        "  lista_numeros = []\n",
        "  num = int(input(\"Ingresa cuantas cosas quieres en la lista A: \")) # numero elementos lista\n",
        "  for i in range(num):  # Ingresar los números y que lo ingrese a la lista\n",
        "    numero = int(input( \"Ingresa lo que desees ingresar: \"))\n",
        "    lista_numeros.append(numero)\n",
        "  print(\"La lista esta compuesta por: \" +str(lista_numeros))\n",
        "  resultado = multiplos_3(lista_numeros)\n",
        "  resultado_bono = bono(lista_numeros)\n",
        "  print(\"De la lista los que son multiplos de 3 son: \" +str(resultado))\n",
        "  print(\"De la lista los que son multiplos de 3 con la parte del bono, son: \" +str(resultado_bono))"
      ],
      "metadata": {
        "colab": {
          "base_uri": "https://localhost:8080/"
        },
        "id": "ij0G4LJf1Ktl",
        "outputId": "f5d9ca96-67a0-42ef-f771-5bd08c222898"
      },
      "execution_count": null,
      "outputs": [
        {
          "output_type": "stream",
          "name": "stdout",
          "text": [
            "Ingresa cuantas cosas quieres en la lista A: 4\n",
            "Ingresa lo que desees ingresar: 3\n",
            "Ingresa lo que desees ingresar: 9\n",
            "Ingresa lo que desees ingresar: 10\n",
            "Ingresa lo que desees ingresar: 12\n",
            "La lista esta compuesta por: [3, 9, 10, 12]\n",
            "De la lista los que son multiplos de 3 son: [3, 9, 12]\n",
            "De la lista los que son multiplos de 3 con la parte del bono, son: [3, 9, 12]\n"
          ]
        }
      ]
    }
  ]
}